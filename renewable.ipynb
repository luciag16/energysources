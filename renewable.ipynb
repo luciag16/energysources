{
 "cells": [
  {
   "cell_type": "code",
   "execution_count": 1,
   "id": "e5e75fc2",
   "metadata": {},
   "outputs": [],
   "source": [
    "import pandas as pd"
   ]
  },
  {
   "cell_type": "code",
   "execution_count": 22,
   "id": "5c811c51",
   "metadata": {},
   "outputs": [],
   "source": [
    "# Load the data\n",
    "file_path = 'D:/proyecto/renewable_energies_powerbi/IRENA_RE_data_balances_extract-July2023.xlsx'\n",
    "data = pd.read_excel(file_path, sheet_name='in')"
   ]
  },
  {
   "cell_type": "code",
   "execution_count": 23,
   "id": "2c4bdcf4",
   "metadata": {},
   "outputs": [],
   "source": [
    "#Filter for European Countries\n",
    "eu_countries = [\n",
    "    \"Austria\", \"Belgium\", \"Bulgaria\", \"Croatia\", \"Cyprus\", \"Czech Republic\", \n",
    "    \"Denmark\", \"Estonia\", \"Finland\", \"France\", \"Germany\", \"Greece\", \n",
    "    \"Hungary\", \"Ireland\", \"Italy\", \"Latvia\", \"Lithuania\", \"Luxembourg\", \n",
    "    \"Malta\", \"Netherlands\", \"Poland\", \"Portugal\", \"Romania\", \n",
    "    \"Slovakia\", \"Slovenia\", \"Spain\", \"Sweden\",\n",
    "    \"Iceland\", \"Liechtenstein\", \"Norway\", \"Switzerland\"\n",
    "]"
   ]
  },
  {
   "cell_type": "code",
   "execution_count": 24,
   "id": "17fb5185",
   "metadata": {},
   "outputs": [],
   "source": [
    "# Filter the data to include only EU countries\n",
    "df_eu = data[data['Country/area'].isin(eu_countries)].copy()"
   ]
  },
  {
   "cell_type": "code",
   "execution_count": 25,
   "id": "2bac412c",
   "metadata": {},
   "outputs": [
    {
     "name": "stdout",
     "output_type": "stream",
     "text": [
      "    Country/area Technology/source  Year              Main category  \\\n",
      "434      Austria        Hydropower  2021             Primary Energy   \n",
      "435      Austria        Hydropower  2021             Primary Energy   \n",
      "436      Austria        Hydropower  2021      Transformation/Losses   \n",
      "437      Austria        Hydropower  2021  Consumption(Elect.& Heat)   \n",
      "438      Austria        Hydropower  2021  Consumption(Elect.& Heat)   \n",
      "\n",
      "    Sub Category        Value Unit  \n",
      "434   Production  139504.7880   TJ  \n",
      "435       Supply  139504.7880   TJ  \n",
      "436  Electricity -139504.7880   TJ  \n",
      "437        Total  127063.9986   TJ  \n",
      "438  Electricity  127063.9986   TJ  \n"
     ]
    }
   ],
   "source": [
    "# Inspect original values in TJ\n",
    "print(df_eu.head())"
   ]
  },
  {
   "cell_type": "code",
   "execution_count": 26,
   "id": "6fc0fc1c",
   "metadata": {},
   "outputs": [],
   "source": [
    "# Check if 'Value' column exists for conversion\n",
    "if 'Value' in df_eu.columns:\n",
    "    # Convert the values from TJ to TWh\n",
    "    df_eu['Value_TWh'] = df_eu['Value'] * 0.00027778\n",
    "else:\n",
    "    # Use existing 'Value_TWh' if already in TWh\n",
    "    df_eu['Value_TWh'] = df_eu['Value_TWh']"
   ]
  },
  {
   "cell_type": "code",
   "execution_count": 27,
   "id": "080961ea",
   "metadata": {},
   "outputs": [],
   "source": [
    "# Select relevant columns and aggregate the data\n",
    "df_eu = df_eu[['Country/area', 'Technology/source', 'Year', 'Main category', 'Value_TWh']]\n",
    "df_aggregated = df_eu.groupby(['Country/area', 'Technology/source', 'Year']).agg({'Value_TWh': 'sum'}).reset_index()"
   ]
  },
  {
   "cell_type": "code",
   "execution_count": 28,
   "id": "a150145f",
   "metadata": {},
   "outputs": [],
   "source": [
    "# Save the aggregated data to a CSV file in the current directory\n",
    "df_aggregated.to_csv('D:/proyecto/renewable_energies_powerbi/EU_RE_aggregated_data.csv', index=False)"
   ]
  },
  {
   "cell_type": "code",
   "execution_count": 29,
   "id": "15595452",
   "metadata": {},
   "outputs": [
    {
     "data": {
      "text/html": [
       "<div>\n",
       "<style scoped>\n",
       "    .dataframe tbody tr th:only-of-type {\n",
       "        vertical-align: middle;\n",
       "    }\n",
       "\n",
       "    .dataframe tbody tr th {\n",
       "        vertical-align: top;\n",
       "    }\n",
       "\n",
       "    .dataframe thead th {\n",
       "        text-align: right;\n",
       "    }\n",
       "</style>\n",
       "<table border=\"1\" class=\"dataframe\">\n",
       "  <thead>\n",
       "    <tr style=\"text-align: right;\">\n",
       "      <th></th>\n",
       "      <th>Country/area</th>\n",
       "      <th>Technology/source</th>\n",
       "      <th>Year</th>\n",
       "      <th>Value_TWh</th>\n",
       "    </tr>\n",
       "  </thead>\n",
       "  <tbody>\n",
       "    <tr>\n",
       "      <th>0</th>\n",
       "      <td>Austria</td>\n",
       "      <td>Biogas</td>\n",
       "      <td>2020</td>\n",
       "      <td>5.503404</td>\n",
       "    </tr>\n",
       "    <tr>\n",
       "      <th>1</th>\n",
       "      <td>Austria</td>\n",
       "      <td>Biogas</td>\n",
       "      <td>2021</td>\n",
       "      <td>5.383786</td>\n",
       "    </tr>\n",
       "    <tr>\n",
       "      <th>2</th>\n",
       "      <td>Austria</td>\n",
       "      <td>Charcoal</td>\n",
       "      <td>2020</td>\n",
       "      <td>0.781040</td>\n",
       "    </tr>\n",
       "    <tr>\n",
       "      <th>3</th>\n",
       "      <td>Austria</td>\n",
       "      <td>Charcoal</td>\n",
       "      <td>2021</td>\n",
       "      <td>0.792465</td>\n",
       "    </tr>\n",
       "    <tr>\n",
       "      <th>4</th>\n",
       "      <td>Austria</td>\n",
       "      <td>Electricity</td>\n",
       "      <td>2020</td>\n",
       "      <td>142.684645</td>\n",
       "    </tr>\n",
       "  </tbody>\n",
       "</table>\n",
       "</div>"
      ],
      "text/plain": [
       "  Country/area Technology/source  Year   Value_TWh\n",
       "0      Austria            Biogas  2020    5.503404\n",
       "1      Austria            Biogas  2021    5.383786\n",
       "2      Austria          Charcoal  2020    0.781040\n",
       "3      Austria          Charcoal  2021    0.792465\n",
       "4      Austria       Electricity  2020  142.684645"
      ]
     },
     "execution_count": 29,
     "metadata": {},
     "output_type": "execute_result"
    }
   ],
   "source": [
    "# Preview the first few rows of the aggregated data\n",
    "df_aggregated.head()"
   ]
  },
  {
   "cell_type": "code",
   "execution_count": null,
   "id": "abc2a3fa",
   "metadata": {},
   "outputs": [],
   "source": []
  }
 ],
 "metadata": {
  "kernelspec": {
   "display_name": "Python 3 (ipykernel)",
   "language": "python",
   "name": "python3"
  },
  "language_info": {
   "codemirror_mode": {
    "name": "ipython",
    "version": 3
   },
   "file_extension": ".py",
   "mimetype": "text/x-python",
   "name": "python",
   "nbconvert_exporter": "python",
   "pygments_lexer": "ipython3",
   "version": "3.11.4"
  }
 },
 "nbformat": 4,
 "nbformat_minor": 5
}
